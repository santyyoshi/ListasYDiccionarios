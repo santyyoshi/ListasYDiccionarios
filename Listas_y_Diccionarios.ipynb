{
  "nbformat": 4,
  "nbformat_minor": 0,
  "metadata": {
    "colab": {
      "provenance": []
    },
    "kernelspec": {
      "name": "python3",
      "display_name": "Python 3"
    },
    "language_info": {
      "name": "python"
    }
  },
  "cells": [
    {
      "cell_type": "markdown",
      "source": [
        "#Listas y diccionarios - Tipos de datos complejos\n",
        "\n",
        "##Datos simples - Solo guardan un dato a la vez\n",
        "\n",
        "\n",
        "* Cadenas - string\n",
        "* Entero - int\n",
        "* Flotante - float\n",
        "* Caracter - char\n",
        "* Booleano - True o False\n",
        "\n",
        "\n",
        "##Datos complejos - Permite almacenar múltiples valores a la vez\n",
        "\n",
        "* Listas/Arrays\n",
        "\n",
        "Es una colección ordenada de elementos, los cuales puede modificar, agregar y eliminar\n",
        "\n",
        "Manzanas, Peras, Leche, Carne, Pollo\n",
        "[0],       [1],   [2],   [3],   [4]\n",
        "\n",
        "* Diccionarios\n",
        "Es una coleccion de datos desordenada almacenada con clave-valor.\n",
        "\n",
        "clave: valor\n",
        "Paula: 3014364912\n",
        "Pedro: 3105678998\n",
        "Carlos: 3155874668"
      ],
      "metadata": {
        "id": "F6_JOyT6bYo3"
      }
    },
    {
      "cell_type": "code",
      "execution_count": null,
      "metadata": {
        "colab": {
          "base_uri": "https://localhost:8080/"
        },
        "id": "LSxK7064bXmZ",
        "outputId": "4c0c0607-9558-4384-b6e9-761ca244fbb0"
      },
      "outputs": [
        {
          "output_type": "stream",
          "name": "stdout",
          "text": [
            "Pera\n",
            "['Manzana', 'Pera', 'Fresas']\n",
            "Manzana Pera Fresas\n",
            "Manzana Pera Fresas Uvas\n",
            "Manzana Pera Fresas\n",
            "Manzana Fresas\n",
            "2\n"
          ]
        }
      ],
      "source": [
        "#Lista\n",
        "\n",
        "frutas = [\"Manzana\", \"Pera\", \"Naranja\"]\n",
        "print(frutas[1]) #Muestra el elemento seleccionado de la lista\n",
        "\n",
        "frutas[2] = \"Fresas\" #Modificar un elemento de la lista.\n",
        "\n",
        "print(frutas) #Muestra todo la listas. Los muestra con los corchetes\n",
        "\n",
        "print(*frutas) #Muestra todo la listas. * quita los corchetes de la lista\n",
        "\n",
        "frutas.append(\"Uvas\") #append() me permite agregar un elemento a lista, en la última posición\n",
        "print(*frutas)\n",
        "\n",
        "frutas.pop() #Elimina el último elemento de la lista o agregando la posición del elemento a eliminar.\n",
        "print(*frutas)\n",
        "\n",
        "frutas.remove(\"Pera\") #Elimina un elemento en especifico\n",
        "print(*frutas)\n",
        "\n",
        "print(len(frutas)) #Longitud de la lista"
      ]
    },
    {
      "cell_type": "code",
      "source": [
        "#Diccionario\n",
        "\n",
        "contactos = {\n",
        "    \"Pedro\" : \"310-231-3123\",\n",
        "    \"Juan\" : \"312-321-5433\",\n",
        "    \"María\" : \"312-2341-5312\"\n",
        "}\n",
        "\n",
        "print(\"El contacto de maría es: \", contactos[\"María\"]) #Llamo un elemento por medio de su clave\n",
        "\n",
        "contactos[\"Camila\"]=\"310-234-2231\" #Agregar un nuevo contacto al diccionario, si ya existe la clave, sobreescribe el valor, sino la añade como nueva.\n",
        "print(contactos)\n",
        "\n",
        "del contactos[\"Pedro\"] #Eliminar un contacto\n",
        "print(contactos)\n"
      ],
      "metadata": {
        "colab": {
          "base_uri": "https://localhost:8080/"
        },
        "id": "i9lbKD44mdYI",
        "outputId": "a609b154-8f73-4452-9420-8ad158f1d64b"
      },
      "execution_count": null,
      "outputs": [
        {
          "output_type": "stream",
          "name": "stdout",
          "text": [
            "El contacto de maría es:  312-2341-5312\n",
            "{'Pedro': '310-231-3123', 'Juan': '312-321-5433', 'María': '312-2341-5312', 'Camila': '310-234-2231'}\n"
          ]
        }
      ]
    },
    {
      "cell_type": "code",
      "source": [
        "tareas = [\"Barrer\", \"Lavar la loza\", \"Trapear\", \"Trabajar\", \"Estudiar\"]\n",
        "print(*tareas)\n",
        "\n",
        "tareas[2] = \"Limpiar el escritorio\"\n",
        "print(*tareas)\n",
        "\n",
        "tareas.pop()\n",
        "print(*tareas)\n",
        "\n",
        "tareas.append(\"Lavar los zapatos\")\n",
        "print(*tareas)\n"
      ],
      "metadata": {
        "colab": {
          "base_uri": "https://localhost:8080/"
        },
        "id": "D99l2DrEoEAZ",
        "outputId": "9d009fe2-dade-4945-82fd-4d631c4161b4"
      },
      "execution_count": null,
      "outputs": [
        {
          "output_type": "stream",
          "name": "stdout",
          "text": [
            "Barrer Lavar la loza Trapear Trabajar Estudiar\n",
            "Barrer Lavar la loza Limpiar el escritorio Trabajar Estudiar\n",
            "Barrer Lavar la loza Limpiar el escritorio Trabajar\n",
            "Barrer Lavar la loza Limpiar el escritorio Trabajar Lavar los zapatos\n"
          ]
        }
      ]
    },
    {
      "cell_type": "code",
      "source": [
        "frutas = {\n",
        "    \"Papaya\" : \"$2000\",\n",
        "    \"Aguacate\" : \"$5000\",\n",
        "    \"Manzana\" : \"$2000\"\n",
        "}\n",
        "\n",
        "\n",
        "print(frutas)\n",
        "\n",
        "frutas[\"Papaya\"] = \"$2500\"\n",
        "print(frutas)\n",
        "\n",
        "frutas[\"Limones\"] = \"$400\"\n",
        "print(frutas)\n",
        "\n",
        "del frutas[\"Manzana\"]\n",
        "print(frutas)"
      ],
      "metadata": {
        "colab": {
          "base_uri": "https://localhost:8080/"
        },
        "id": "WRBOvAyNseZZ",
        "outputId": "8a281ef3-f0f5-4dce-e46f-659e1d61d2d4"
      },
      "execution_count": null,
      "outputs": [
        {
          "output_type": "stream",
          "name": "stdout",
          "text": [
            "{'Papaya': '$2000', 'Aguacate': '$5000', 'Manzana': '$2000'}\n",
            "{'Papaya': '$2500', 'Aguacate': '$5000', 'Manzana': '$2000'}\n",
            "{'Papaya': '$2500', 'Aguacate': '$5000', 'Manzana': '$2000', 'Limones': '$400'}\n",
            "{'Papaya': '$2500', 'Aguacate': '$5000', 'Limones': '$400'}\n"
          ]
        }
      ]
    },
    {
      "cell_type": "code",
      "source": [
        "contactos = {\n",
        "    \"Pedro\":{\n",
        "        \"telefono\": [\"312-231-3123\", 3100232321],\n",
        "        \"correo\": [\"pedro@gmail.com\", \"pedro@pio.com\", \"pedro@amazon.com\"],\n",
        "        \"dirección\": {\n",
        "            \"Calle\": \"3A\",\n",
        "            \"Barrio\": \"Principe\",\n",
        "            \"Ciudad\": \"Tuluá\"\n",
        "        }\n",
        "    },\n",
        "\n",
        "    \"Juan\":{\n",
        "        \"telefono\": [\"323-321-5123\", 3103213124],\n",
        "        \"correo\": \"juan@gmail.com\",\n",
        "        \"dirección\": {\n",
        "            \"Calle\": \"7B\",\n",
        "            \"Barrio\": \"Andes\",\n",
        "            \"Ciudad\": \"Cali\"\n",
        "        }\n",
        "    },\n",
        "\n",
        "    \"Manuel\":{\n",
        "        \"telefono\": [\"350-312-3145\", 3104313234],\n",
        "        \"correo\": \"manuel@gmail.com\",\n",
        "        \"direccion\": {\n",
        "            \"Calle\": \"1D\",\n",
        "            \"Barrio\": \"Arlor\",\n",
        "            \"Ciudad\": \"Bogotá\"\n",
        "        }\n",
        "    },\n",
        "}\n",
        "\n",
        "print(contactos)\n",
        "\n",
        "contactos[\"Tatiana\"] ={ #Agregar nuevo contacto\n",
        "    \"telefono\" : [\"313-241-3123\", \"321-321-4513\", \"313-321-3125\"],\n",
        "    \"correo\" : \"tatiana@gmail.com\"\n",
        "}\n",
        "\n",
        "print(*contactos)\n",
        "\n",
        "print(\"El contacto de María es: \", contactos[\"Manuel\"][\"telefono\"])\n",
        "print(\"El segundo telefono de Tatiana es: \", contactos[\"Tatiana\"][\"telefono\"][1]) #Del contacto tatiana traeme el telefono en la posicion 1, o sea, el segundo tel\n",
        "\n",
        "ciudadManuel = contactos[\"Manuel\"][\"direccion\"][\"Ciudad\"]\n",
        "print(\"La ciudad de Manuel es: \", ciudadManuel)\n",
        "\n",
        "teleTati = contactos[\"Tatiana\"][\"telefono\"]\n",
        "\n",
        "print(teleTati)\n",
        "\n",
        "#for variable/contador =0 in limite (menor a 11)\n",
        "\n",
        "for telefono in teleTati: # telefono[0], telefono[1], telefono[2]. El limite son todos los numeros de telefono que tiene tatiana (3), que en index serian 0, 1, 2\n",
        "  print(telefono)\n",
        "\n",
        "for i, telefono in enumerate(teleTati, start=1): #enumerate es una funcion que agrega un contador/indice a cada elemento, start le indicamos desde que numero va a empezar\n",
        "  print(f\"Telefono {i}\", telefono)\n",
        "\n",
        "\n",
        "correoPedro = contactos['Pedro'][\"correo\"]\n",
        "\n",
        "for correo in correoPedro:\n",
        "  print(correo)\n",
        "\n",
        "contactos[\"Pedro\"][\"Cumpleaños\"] = \"20 de Junio\" #Agregar una clave o campo nuevo a Andres\n",
        "print(\"El cumpleaños de Pedro es \", contactos[\"Pedro\"][\"Cumpleaños\"])\n",
        "\n",
        "contactos[\"Pedro\"][\"Fecha de nacimiento\"] = [20, \"Junio\", 1995]\n",
        "print(\"La fecha de nacimiento es \", contactos[\"Pedro\"][\"Fecha de nacimiento\"])\n",
        "\n",
        "yearNacimiento = contactos[\"Pedro\"][\"Fecha de nacimiento\"][2]\n",
        "print(yearNacimiento)\n",
        "\n",
        "del contactos[\"Manuel\"] #eliminar un contacto\n",
        "print(*contactos)\n",
        "\n",
        "contactos[\"Pedro\"][\"correo\"].remove(\"pedro@gmail.com\")\n",
        "print(*contactos[\"Pedro\"][\"correo\"])"
      ],
      "metadata": {
        "id": "Vp4Qmw3i2M5M",
        "colab": {
          "base_uri": "https://localhost:8080/"
        },
        "outputId": "d1cf2d2b-f60b-4d66-cb47-b0108fa7340a"
      },
      "execution_count": null,
      "outputs": [
        {
          "output_type": "stream",
          "name": "stdout",
          "text": [
            "{'Pedro': {'telefono': ['312-231-3123', 3100232321], 'correo': ['pedro@gmail.com', 'pedro@pio.com', 'pedro@amazon.com'], 'dirección': {'Calle': '3A', 'Barrio': 'Principe', 'Ciudad': 'Tuluá'}}, 'Juan': {'telefono': ['323-321-5123', 3103213124], 'correo': 'juan@gmail.com', 'dirección': {'Calle': '7B', 'Barrio': 'Andes', 'Ciudad': 'Cali'}}, 'Manuel': {'telefono': ['350-312-3145', 3104313234], 'correo': 'manuel@gmail.com', 'direccion': {'Calle': '1D', 'Barrio': 'Arlor', 'Ciudad': 'Bogotá'}}}\n",
            "Pedro Juan Manuel Tatiana\n",
            "El contacto de María es:  ['350-312-3145', 3104313234]\n",
            "El segundo telefono de Tatiana es:  321-321-4513\n",
            "La ciudad de Manuel es:  Bogotá\n",
            "['313-241-3123', '321-321-4513', '313-321-3125']\n",
            "313-241-3123\n",
            "321-321-4513\n",
            "313-321-3125\n",
            "Telefono 1 313-241-3123\n",
            "Telefono 2 321-321-4513\n",
            "Telefono 3 313-321-3125\n",
            "pedro@gmail.com\n",
            "pedro@pio.com\n",
            "pedro@amazon.com\n",
            "El cumpleaños de Pedro es  20 de Junio\n",
            "La fecha de nacimiento es  [20, 'Junio', 1995]\n",
            "1995\n",
            "Pedro Juan Tatiana\n",
            "pedro@pio.com pedro@amazon.com\n"
          ]
        }
      ]
    },
    {
      "cell_type": "code",
      "source": [],
      "metadata": {
        "id": "nTGJhwJn8gGm"
      },
      "execution_count": null,
      "outputs": []
    }
  ]
}